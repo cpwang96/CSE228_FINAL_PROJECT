{
 "cells": [
  {
   "cell_type": "code",
   "execution_count": 1,
   "metadata": {},
   "outputs": [
    {
     "name": "stderr",
     "output_type": "stream",
     "text": [
      "/opt/conda/lib/python3.6/site-packages/h5py/__init__.py:36: FutureWarning: Conversion of the second argument of issubdtype from `float` to `np.floating` is deprecated. In future, it will be treated as `np.float64 == np.dtype(float).type`.\n",
      "  from ._conv import register_converters as _register_converters\n"
     ]
    }
   ],
   "source": [
    "from __future__ import absolute_import, division, print_function\n",
    "import numpy as np # linear algebra\n",
    "import pandas as pd # data processing, CSV file I/O (e.g. pd.read_csv)\n",
    "import tensorflow as tf\n",
    "import cv2\n",
    "import matplotlib.pyplot as plt\n",
    "import seaborn as sns\n",
    "from PIL import Image\n",
    "import os"
   ]
  },
  {
   "cell_type": "code",
   "execution_count": 2,
   "metadata": {},
   "outputs": [],
   "source": [
    "parasitized_contrast = os.listdir('./Parasitized_enlarge/contrast/') \n",
    "uninfected_contrast = os.listdir('./Uninfected_enlarge/contrast/') \n",
    "data = []\n",
    "labels = []\n"
   ]
  },
  {
   "cell_type": "code",
   "execution_count": 3,
   "metadata": {},
   "outputs": [],
   "source": [
    "for positive_data in parasitized_contrast:\n",
    "    if positive_data == \"Thumbs.db\":\n",
    "        continue\n",
    "    image = Image.open(\"./Parasitized_enlarge/contrast/\" + positive_data)\n",
    "    image = image.resize((64, 64))\n",
    "    rotated30 = image.rotate(30)\n",
    "    rotated60 = image.rotate(60)\n",
    "    rotated90 = image.rotate(90)\n",
    "\n",
    "    data.append(np.array(image))\n",
    "    data.append(np.array(rotated30))\n",
    "    data.append(np.array(rotated60))\n",
    "    data.append(np.array(rotated90))\n",
    "    labels.append(1)\n",
    "    labels.append(1)\n",
    "    labels.append(1)\n",
    "    labels.append(1)\n",
    "\n",
    "for negative_data in uninfected_contrast:\n",
    "    if negative_data == \"Thumbs.db\":\n",
    "        continue\n",
    "    image = Image.open(\"./Uninfected_enlarge/contrast/\" + negative_data)\n",
    "    image = image.resize((64, 64))\n",
    "    rotated30 = image.rotate(30)\n",
    "    rotated60 = image.rotate(60)\n",
    "    rotated90 = image.rotate(90)\n",
    "    \n",
    "    data.append(np.array(image))\n",
    "    data.append(np.array(rotated30))\n",
    "    data.append(np.array(rotated60))\n",
    "    data.append(np.array(rotated90))\n",
    "    labels.append(0)\n",
    "    labels.append(0)\n",
    "    labels.append(0)\n",
    "    labels.append(0)"
   ]
  },
  {
   "cell_type": "code",
   "execution_count": 4,
   "metadata": {},
   "outputs": [
    {
     "name": "stdout",
     "output_type": "stream",
     "text": [
      "Data : (110232, 64, 64, 3) | labels : (110232,)\n"
     ]
    }
   ],
   "source": [
    "Data = np.array(data)\n",
    "Labels = np.array(labels)\n",
    "\n",
    "np.save('Data' , Data)\n",
    "np.save('Labels' , Labels)\n",
    "print('Data : {} | labels : {}'.format(Data.shape , Labels.shape))"
   ]
  },
  {
   "cell_type": "code",
   "execution_count": 5,
   "metadata": {},
   "outputs": [],
   "source": [
    "from sklearn.utils import shuffle\n",
    "Data, Labels = shuffle(Data, Labels)"
   ]
  },
  {
   "cell_type": "code",
   "execution_count": 6,
   "metadata": {},
   "outputs": [],
   "source": [
    "Data = Data.astype(np.float32)\n",
    "Data = Data / 255\n",
    "Labels = Labels.astype(np.int32)\n",
    "from sklearn.model_selection import train_test_split\n",
    "ntrain = int(len(Data)*0.8)\n",
    "X_test = Data[ntrain:]\n",
    "y_test = Labels[ntrain:]\n",
    "X_train, X_val, y_train, Y_val = train_test_split(Data[0:ntrain], Labels[0:ntrain], test_size=0.2, random_state = 40)"
   ]
  },
  {
   "cell_type": "code",
   "execution_count": 15,
   "metadata": {},
   "outputs": [],
   "source": [
    "from keras.applications.vgg16 import VGG16\n",
    "from keras.models import Sequential, Model\n",
    "from keras.optimizers import RMSprop, Adam, SGD\n",
    "from keras.layers import Dense, Dropout, Activation, Flatten, Input\n",
    "# def vgg16_model(input_shape= (64,64,3)):\n",
    "#     vgg16 = VGG16(include_top=False, weights='imagenet',input_shape=input_shape)\n",
    "    \n",
    "#     for layer in vgg16.layers:\n",
    "#         layer.trainable = False\n",
    "#     last = vgg16.output\n",
    "#     x = Flatten()(last)\n",
    "#     x = Dense(256, activation='relu')(x)\n",
    "#     x = Dropout(0.5)(x)\n",
    "#     x = Dense(1, activation='sigmoid')(x)\n",
    "    \n",
    "#     model = Model(inputs=vgg16.input, outputs=x)\n",
    "    \n",
    "#     return model\n",
    "base_model = VGG16(include_top=False, weights='imagenet',input_shape=(64,64,3))\n",
    "base_model.trainable = False  #Tells that all the weights are to be trained"
   ]
  },
  {
   "cell_type": "code",
   "execution_count": 17,
   "metadata": {},
   "outputs": [
    {
     "name": "stdout",
     "output_type": "stream",
     "text": [
      "_________________________________________________________________\n",
      "Layer (type)                 Output Shape              Param #   \n",
      "=================================================================\n",
      "vgg16 (Model)                (None, 2, 2, 512)         14714688  \n",
      "_________________________________________________________________\n",
      "flatten_2 (Flatten)          (None, 2048)              0         \n",
      "_________________________________________________________________\n",
      "dense_3 (Dense)              (None, 512)               1049088   \n",
      "_________________________________________________________________\n",
      "dropout_2 (Dropout)          (None, 512)               0         \n",
      "_________________________________________________________________\n",
      "dense_4 (Dense)              (None, 1)                 513       \n",
      "=================================================================\n",
      "Total params: 15,764,289\n",
      "Trainable params: 1,049,601\n",
      "Non-trainable params: 14,714,688\n",
      "_________________________________________________________________\n"
     ]
    }
   ],
   "source": [
    "from keras import models\n",
    "model= models.Sequential()           #Creating the sequntial model\n",
    "model.add(base_model)                #Adding the imagenet model\n",
    "model.add(Flatten())                                #\n",
    "model.add(Dense(512,activation=\"relu\"))             #\n",
    "model.add(Dropout(0.5))                             #\n",
    "model.add(Dense(1,activation=\"sigmoid\"))  #\n",
    "model.summary()\n",
    "model.compile(loss='binary_crossentropy',optimizer = Adam(0.0001), metrics = ['accuracy'])"
   ]
  },
  {
   "cell_type": "code",
   "execution_count": 18,
   "metadata": {},
   "outputs": [
    {
     "name": "stdout",
     "output_type": "stream",
     "text": [
      "Train on 70548 samples, validate on 17637 samples\n",
      "Epoch 1/30\n",
      "70548/70548 [==============================] - 27s 383us/step - loss: 0.2540 - acc: 0.8962 - val_loss: 0.1937 - val_acc: 0.9259\n",
      "Epoch 2/30\n",
      "70548/70548 [==============================] - 27s 382us/step - loss: 0.1891 - acc: 0.9284 - val_loss: 0.1765 - val_acc: 0.9312\n",
      "Epoch 3/30\n",
      "70548/70548 [==============================] - 27s 383us/step - loss: 0.1756 - acc: 0.9338 - val_loss: 0.1672 - val_acc: 0.9379\n",
      "Epoch 4/30\n",
      "70548/70548 [==============================] - 27s 380us/step - loss: 0.1673 - acc: 0.9370 - val_loss: 0.1619 - val_acc: 0.9390\n",
      "Epoch 5/30\n",
      "70548/70548 [==============================] - 27s 383us/step - loss: 0.1616 - acc: 0.9394 - val_loss: 0.1595 - val_acc: 0.9401\n",
      "Epoch 6/30\n",
      "70548/70548 [==============================] - 27s 376us/step - loss: 0.1569 - acc: 0.9420 - val_loss: 0.1570 - val_acc: 0.9405\n",
      "Epoch 7/30\n",
      "70548/70548 [==============================] - 27s 381us/step - loss: 0.1545 - acc: 0.9422 - val_loss: 0.1522 - val_acc: 0.9428\n",
      "Epoch 8/30\n",
      "70548/70548 [==============================] - 26s 373us/step - loss: 0.1494 - acc: 0.9439 - val_loss: 0.1521 - val_acc: 0.9413\n",
      "Epoch 9/30\n",
      "70548/70548 [==============================] - 26s 374us/step - loss: 0.1470 - acc: 0.9453 - val_loss: 0.1529 - val_acc: 0.9420\n",
      "Epoch 10/30\n",
      "70548/70548 [==============================] - 27s 381us/step - loss: 0.1451 - acc: 0.9466 - val_loss: 0.1484 - val_acc: 0.9437\n",
      "Epoch 11/30\n",
      "70548/70548 [==============================] - 27s 383us/step - loss: 0.1416 - acc: 0.9475 - val_loss: 0.1476 - val_acc: 0.9447\n",
      "Epoch 12/30\n",
      "70548/70548 [==============================] - 27s 378us/step - loss: 0.1377 - acc: 0.9492 - val_loss: 0.1450 - val_acc: 0.9453\n",
      "Epoch 13/30\n",
      "70548/70548 [==============================] - 27s 379us/step - loss: 0.1365 - acc: 0.9490 - val_loss: 0.1476 - val_acc: 0.9440\n",
      "Epoch 14/30\n",
      "70548/70548 [==============================] - 26s 375us/step - loss: 0.1336 - acc: 0.9508 - val_loss: 0.1456 - val_acc: 0.9461\n",
      "Epoch 15/30\n",
      "70548/70548 [==============================] - 27s 382us/step - loss: 0.1318 - acc: 0.9511 - val_loss: 0.1413 - val_acc: 0.9468\n",
      "Epoch 16/30\n",
      "70548/70548 [==============================] - 27s 382us/step - loss: 0.1301 - acc: 0.9519 - val_loss: 0.1412 - val_acc: 0.9474\n",
      "Epoch 17/30\n",
      "70548/70548 [==============================] - 27s 382us/step - loss: 0.1280 - acc: 0.9530 - val_loss: 0.1400 - val_acc: 0.9472\n",
      "Epoch 18/30\n",
      "70548/70548 [==============================] - 27s 382us/step - loss: 0.1263 - acc: 0.9540 - val_loss: 0.1407 - val_acc: 0.9472\n",
      "Epoch 19/30\n",
      "70548/70548 [==============================] - 27s 384us/step - loss: 0.1246 - acc: 0.9542 - val_loss: 0.1418 - val_acc: 0.9481\n",
      "Epoch 20/30\n",
      "70548/70548 [==============================] - 27s 385us/step - loss: 0.1222 - acc: 0.9555 - val_loss: 0.1382 - val_acc: 0.9485\n",
      "Epoch 21/30\n",
      "70548/70548 [==============================] - 27s 385us/step - loss: 0.1204 - acc: 0.9560 - val_loss: 0.1423 - val_acc: 0.9480\n",
      "Epoch 22/30\n",
      "70548/70548 [==============================] - 27s 379us/step - loss: 0.1183 - acc: 0.9569 - val_loss: 0.1354 - val_acc: 0.9498\n",
      "Epoch 23/30\n",
      "70548/70548 [==============================] - 27s 378us/step - loss: 0.1171 - acc: 0.9570 - val_loss: 0.1357 - val_acc: 0.9503\n",
      "Epoch 24/30\n",
      "70548/70548 [==============================] - 27s 381us/step - loss: 0.1161 - acc: 0.9578 - val_loss: 0.1362 - val_acc: 0.9501\n",
      "Epoch 25/30\n",
      "70548/70548 [==============================] - 27s 383us/step - loss: 0.1139 - acc: 0.9584 - val_loss: 0.1385 - val_acc: 0.9490\n",
      "Epoch 26/30\n",
      "70548/70548 [==============================] - 27s 381us/step - loss: 0.1121 - acc: 0.9590 - val_loss: 0.1346 - val_acc: 0.9494\n",
      "Epoch 27/30\n",
      "70548/70548 [==============================] - 27s 382us/step - loss: 0.1108 - acc: 0.9599 - val_loss: 0.1333 - val_acc: 0.9505\n",
      "Epoch 28/30\n",
      "70548/70548 [==============================] - 26s 372us/step - loss: 0.1093 - acc: 0.9599 - val_loss: 0.1338 - val_acc: 0.9504\n",
      "Epoch 29/30\n",
      "70548/70548 [==============================] - 27s 380us/step - loss: 0.1078 - acc: 0.9609 - val_loss: 0.1341 - val_acc: 0.9494\n",
      "Epoch 30/30\n",
      "70548/70548 [==============================] - 27s 382us/step - loss: 0.1062 - acc: 0.9617 - val_loss: 0.1340 - val_acc: 0.9494\n"
     ]
    }
   ],
   "source": [
    "history = model.fit(X_train,y_train, validation_data=(X_val, Y_val),epochs=30,batch_size=100,verbose=True)\n",
    "score = model.evaluate(X_test, y_test, verbose=0)"
   ]
  },
  {
   "cell_type": "code",
   "execution_count": 19,
   "metadata": {},
   "outputs": [
    {
     "name": "stdout",
     "output_type": "stream",
     "text": [
      "Test loss: 0.12557007188370542\n",
      "Test accuracy: 0.9534630561575693\n"
     ]
    }
   ],
   "source": [
    "print(\"Test loss: \" + str(score[0]))\n",
    "print(\"Test accuracy: \" + str(score[1]))"
   ]
  },
  {
   "cell_type": "code",
   "execution_count": 20,
   "metadata": {},
   "outputs": [
    {
     "data": {
      "image/png": "[encoded data removed]",
      "text/plain": [
       "<Figure size 432x288 with 1 Axes>"
      ]
     },
     "metadata": {
      "needs_background": "light"
     },
     "output_type": "display_data"
    },
    {
     "data": {
      "image/png": "[encoded data removed]",
      "text/plain": [
       "<Figure size 432x288 with 1 Axes>"
      ]
     },
     "metadata": {
      "needs_background": "light"
     },
     "output_type": "display_data"
    }
   ],
   "source": [
    "# summarize history for accuracy\n",
    "plt.plot(history.history['acc'])\n",
    "plt.plot(history.history['val_acc'])\n",
    "plt.title('Accuracy')\n",
    "plt.ylabel('accuracy')\n",
    "plt.xlabel('epoch')\n",
    "plt.legend(['train', 'validation'], loc='upper right')\n",
    "plt.show()\n",
    "# summarize history for loss\n",
    "plt.plot(history.history['loss'])\n",
    "plt.plot(history.history['val_loss'])\n",
    "plt.title('Loss')\n",
    "plt.ylabel('loss')\n",
    "plt.xlabel('epoch')\n",
    "plt.legend(['train', 'validation'], loc = 'upper right')\n",
    "plt.show()"
   ]
  },
  {
   "cell_type": "code",
   "execution_count": 22,
   "metadata": {},
   "outputs": [
    {
     "data": {
      "text/plain": [
       "array([10497,   556,   470, 10524])"
      ]
     },
     "execution_count": 22,
     "metadata": {},
     "output_type": "execute_result"
    }
   ],
   "source": [
    "y_pred = model.predict_classes(X_test)\n",
    "from sklearn.metrics import confusion_matrix\n",
    "confusion_matrix(y_test, y_pred).ravel() # tn, fp, fn, tp"
   ]
  }
 ],
 "metadata": {
  "kernelspec": {
   "display_name": "Python 3",
   "language": "python",
   "name": "python3"
  },
  "language_info": {
   "codemirror_mode": {
    "name": "ipython",
    "version": 3
   },
   "file_extension": ".py",
   "mimetype": "text/x-python",
   "name": "python",
   "nbconvert_exporter": "python",
   "pygments_lexer": "ipython3",
   "version": "3.6.8"
  }
 },
 "nbformat": 4,
 "nbformat_minor": 2
}
