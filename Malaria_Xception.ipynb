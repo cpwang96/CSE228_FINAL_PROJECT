{
 "cells": [
  {
   "cell_type": "code",
   "execution_count": 1,
   "metadata": {},
   "outputs": [
    {
     "name": "stderr",
     "output_type": "stream",
     "text": [
      "/opt/conda/lib/python3.6/site-packages/h5py/__init__.py:36: FutureWarning: Conversion of the second argument of issubdtype from `float` to `np.floating` is deprecated. In future, it will be treated as `np.float64 == np.dtype(float).type`.\n",
      "  from ._conv import register_converters as _register_converters\n"
     ]
    }
   ],
   "source": [
    "from __future__ import absolute_import, division, print_function\n",
    "import numpy as np # linear algebra\n",
    "import pandas as pd # data processing, CSV file I/O (e.g. pd.read_csv)\n",
    "import tensorflow as tf\n",
    "import cv2\n",
    "import matplotlib.pyplot as plt\n",
    "import seaborn as sns\n",
    "from PIL import Image\n",
    "import os"
   ]
  },
  {
   "cell_type": "code",
   "execution_count": 2,
   "metadata": {},
   "outputs": [],
   "source": [
    "parasitized_contrast = os.listdir('./Parasitized_enlarge/contrast/') \n",
    "uninfected_contrast = os.listdir('./Uninfected_enlarge/contrast/') \n",
    "data = []\n",
    "labels = []"
   ]
  },
  {
   "cell_type": "code",
   "execution_count": 3,
   "metadata": {},
   "outputs": [],
   "source": [
    "for positive_data in parasitized_contrast:\n",
    "    if positive_data == \"Thumbs.db\":\n",
    "        continue\n",
    "    image = Image.open(\"./Parasitized_enlarge/contrast/\" + positive_data)\n",
    "    image = image.resize((71, 71))\n",
    "    rotated30 = image.rotate(30)\n",
    "    rotated60 = image.rotate(60)\n",
    "    rotated90 = image.rotate(90)\n",
    "\n",
    "    data.append(np.array(image))\n",
    "    data.append(np.array(rotated30))\n",
    "    data.append(np.array(rotated60))\n",
    "    data.append(np.array(rotated90))\n",
    "    labels.append(1)\n",
    "    labels.append(1)\n",
    "    labels.append(1)\n",
    "    labels.append(1)\n",
    "\n",
    "for negative_data in uninfected_contrast:\n",
    "    if negative_data == \"Thumbs.db\":\n",
    "        continue\n",
    "    image = Image.open(\"./Uninfected_enlarge/contrast/\" + negative_data)\n",
    "    image = image.resize((71, 71))\n",
    "    rotated30 = image.rotate(30)\n",
    "    rotated60 = image.rotate(60)\n",
    "    rotated90 = image.rotate(90)\n",
    "    \n",
    "    data.append(np.array(image))\n",
    "    data.append(np.array(rotated30))\n",
    "    data.append(np.array(rotated60))\n",
    "    data.append(np.array(rotated90))\n",
    "    labels.append(0)\n",
    "    labels.append(0)\n",
    "    labels.append(0)\n",
    "    labels.append(0)"
   ]
  },
  {
   "cell_type": "code",
   "execution_count": 4,
   "metadata": {
    "scrolled": true
   },
   "outputs": [
    {
     "name": "stdout",
     "output_type": "stream",
     "text": [
      "Data : (110232, 71, 71, 3) | labels : (110232,)\n"
     ]
    }
   ],
   "source": [
    "Data = np.array(data)\n",
    "Labels = np.array(labels)\n",
    "\n",
    "np.save('Data' , Data)\n",
    "np.save('Labels' , Labels)\n",
    "print('Data : {} | labels : {}'.format(Data.shape , Labels.shape))\n",
    "from sklearn.utils import shuffle\n",
    "Data, Labels = shuffle(Data, Labels)\n",
    "Data = Data.astype(np.float32)\n",
    "Data = Data / 255\n",
    "Labels = Labels.astype(np.int32)\n",
    "from sklearn.model_selection import train_test_split\n",
    "ntrain = int(len(Data)*0.8)\n",
    "X_test = Data[ntrain:]\n",
    "y_test = Labels[ntrain:]\n",
    "X_train, X_val, y_train, Y_val = train_test_split(Data[0:ntrain], Labels[0:ntrain], test_size=0.2, random_state = 40)"
   ]
  },
  {
   "cell_type": "code",
   "execution_count": 5,
   "metadata": {},
   "outputs": [
    {
     "name": "stderr",
     "output_type": "stream",
     "text": [
      "Using TensorFlow backend.\n"
     ]
    }
   ],
   "source": [
    "from keras.applications import xception\n",
    "from keras.models import Sequential, Model\n",
    "from keras.optimizers import RMSprop, Adam, SGD\n",
    "from keras.layers import Dense, Dropout, Activation, Flatten, Input\n",
    "from keras import regularizers\n",
    "def xception_model(input_shape= (71,71,3)):\n",
    "    model_xception = xception.Xception(include_top=False, weights='imagenet', input_shape=input_shape)\n",
    "    \n",
    "    for layer in model_xception.layers:\n",
    "        layer.trainable = True\n",
    "    last = model_xception.output\n",
    "    x = Flatten()(last)\n",
    "    x = Dense(256, activation='relu')(x)\n",
    "    x = Dropout(0.5)(x)\n",
    "    x = Dense(1, activation='sigmoid')(x)\n",
    "    \n",
    "    model = Model(inputs=model_xception.input, outputs=x)\n",
    "    \n",
    "    return model"
   ]
  },
  {
   "cell_type": "code",
   "execution_count": 6,
   "metadata": {},
   "outputs": [],
   "source": [
    "from keras.applications.vgg16 import VGG16\n",
    "from keras.models import Sequential, Model\n",
    "from keras.optimizers import RMSprop, Adam, SGD\n",
    "from keras.layers import Dense, Dropout, Activation, Flatten, Input\n",
    "# def vgg16_model(input_shape= (64,64,3)):\n",
    "#     vgg16 = VGG16(include_top=False, weights='imagenet',input_shape=input_shape)\n",
    "    \n",
    "#     for layer in vgg16.layers:\n",
    "#         layer.trainable = False\n",
    "#     last = vgg16.output\n",
    "#     x = Flatten()(last)\n",
    "#     x = Dense(256, activation='relu')(x)\n",
    "#     x = Dropout(0.5)(x)\n",
    "#     x = Dense(1, activation='sigmoid')(x)\n",
    "    \n",
    "#     model = Model(inputs=vgg16.input, outputs=x)\n",
    "    \n",
    "#     return model\n",
    "base_model = xception.Xception(include_top=False, weights='imagenet',input_shape=(71,71,3))\n",
    "base_model.trainable = True  #Tells that all the weights are to be trained"
   ]
  },
  {
   "cell_type": "code",
   "execution_count": 7,
   "metadata": {},
   "outputs": [
    {
     "name": "stdout",
     "output_type": "stream",
     "text": [
      "_________________________________________________________________\n",
      "Layer (type)                 Output Shape              Param #   \n",
      "=================================================================\n",
      "xception (Model)             (None, 3, 3, 2048)        20861480  \n",
      "_________________________________________________________________\n",
      "flatten_1 (Flatten)          (None, 18432)             0         \n",
      "_________________________________________________________________\n",
      "dense_1 (Dense)              (None, 512)               9437696   \n",
      "_________________________________________________________________\n",
      "dropout_1 (Dropout)          (None, 512)               0         \n",
      "_________________________________________________________________\n",
      "dense_2 (Dense)              (None, 1)                 513       \n",
      "=================================================================\n",
      "Total params: 30,299,689\n",
      "Trainable params: 30,245,161\n",
      "Non-trainable params: 54,528\n",
      "_________________________________________________________________\n"
     ]
    }
   ],
   "source": [
    "from keras import models\n",
    "model= models.Sequential()           #Creating the sequntial model\n",
    "model.add(base_model)                #Adding the imagenet model\n",
    "model.add(Flatten())                                #\n",
    "model.add(Dense(512,activation=\"relu\"))             #\n",
    "model.add(Dropout(0.5))                             #\n",
    "model.add(Dense(1,activation=\"sigmoid\"))  #\n",
    "model.summary()\n",
    "model.compile(loss='binary_crossentropy',optimizer = Adam(0.0001), metrics = ['accuracy'])"
   ]
  },
  {
   "cell_type": "code",
   "execution_count": 8,
   "metadata": {
    "scrolled": false
   },
   "outputs": [
    {
     "name": "stdout",
     "output_type": "stream",
     "text": [
      "Train on 70548 samples, validate on 17637 samples\n",
      "Epoch 1/30\n",
      "70548/70548 [==============================] - 135s 2ms/step - loss: 0.1224 - acc: 0.9563 - val_loss: 0.0951 - val_acc: 0.9681\n",
      "Epoch 2/30\n",
      "70548/70548 [==============================] - 117s 2ms/step - loss: 0.0633 - acc: 0.9766 - val_loss: 0.1146 - val_acc: 0.9675\n",
      "Epoch 3/30\n",
      "70548/70548 [==============================] - 117s 2ms/step - loss: 0.0402 - acc: 0.9853 - val_loss: 0.0907 - val_acc: 0.9697\n",
      "Epoch 4/30\n",
      "70548/70548 [==============================] - 117s 2ms/step - loss: 0.0246 - acc: 0.9906 - val_loss: 0.1265 - val_acc: 0.9707\n",
      "Epoch 5/30\n",
      "70548/70548 [==============================] - 118s 2ms/step - loss: 0.0174 - acc: 0.9937 - val_loss: 0.1219 - val_acc: 0.9712\n",
      "Epoch 6/30\n",
      "70548/70548 [==============================] - 117s 2ms/step - loss: 0.0141 - acc: 0.9950 - val_loss: 0.1335 - val_acc: 0.9687\n",
      "Epoch 7/30\n",
      "70548/70548 [==============================] - 116s 2ms/step - loss: 0.0118 - acc: 0.9958 - val_loss: 0.1527 - val_acc: 0.9719\n",
      "Epoch 8/30\n",
      "70548/70548 [==============================] - 116s 2ms/step - loss: 0.0095 - acc: 0.9968 - val_loss: 0.1444 - val_acc: 0.9731\n",
      "Epoch 9/30\n",
      "70548/70548 [==============================] - 116s 2ms/step - loss: 0.0096 - acc: 0.9967 - val_loss: 0.1472 - val_acc: 0.9743\n",
      "Epoch 10/30\n",
      "70548/70548 [==============================] - 116s 2ms/step - loss: 0.0079 - acc: 0.9977 - val_loss: 0.1359 - val_acc: 0.9714\n",
      "Epoch 11/30\n",
      "70548/70548 [==============================] - 116s 2ms/step - loss: 0.0077 - acc: 0.9975 - val_loss: 0.1260 - val_acc: 0.9750\n",
      "Epoch 12/30\n",
      "70548/70548 [==============================] - 116s 2ms/step - loss: 0.0069 - acc: 0.9974 - val_loss: 0.1589 - val_acc: 0.9754\n",
      "Epoch 13/30\n",
      "70548/70548 [==============================] - 116s 2ms/step - loss: 0.0065 - acc: 0.9980 - val_loss: 0.1281 - val_acc: 0.9748\n",
      "Epoch 14/30\n",
      "70548/70548 [==============================] - 116s 2ms/step - loss: 0.0052 - acc: 0.9984 - val_loss: 0.1495 - val_acc: 0.9744\n",
      "Epoch 15/30\n",
      "70548/70548 [==============================] - 116s 2ms/step - loss: 0.0074 - acc: 0.9977 - val_loss: 0.1622 - val_acc: 0.9731\n",
      "Epoch 16/30\n",
      "70548/70548 [==============================] - 116s 2ms/step - loss: 0.0056 - acc: 0.9982 - val_loss: 0.1691 - val_acc: 0.9724\n",
      "Epoch 17/30\n",
      "70548/70548 [==============================] - 116s 2ms/step - loss: 0.0050 - acc: 0.9985 - val_loss: 0.1625 - val_acc: 0.9749\n",
      "Epoch 18/30\n",
      "70548/70548 [==============================] - 116s 2ms/step - loss: 0.0061 - acc: 0.9981 - val_loss: 0.1373 - val_acc: 0.9753\n",
      "Epoch 19/30\n",
      "70548/70548 [==============================] - 116s 2ms/step - loss: 0.0042 - acc: 0.9986 - val_loss: 0.1459 - val_acc: 0.9751\n",
      "Epoch 20/30\n",
      "70548/70548 [==============================] - 116s 2ms/step - loss: 0.0040 - acc: 0.9987 - val_loss: 0.1597 - val_acc: 0.9741\n",
      "Epoch 21/30\n",
      "70548/70548 [==============================] - 116s 2ms/step - loss: 0.0050 - acc: 0.9986 - val_loss: 0.1715 - val_acc: 0.9734\n",
      "Epoch 22/30\n",
      "70548/70548 [==============================] - 116s 2ms/step - loss: 0.0037 - acc: 0.9987 - val_loss: 0.1336 - val_acc: 0.9745\n",
      "Epoch 23/30\n",
      "70548/70548 [==============================] - 117s 2ms/step - loss: 0.0059 - acc: 0.9984 - val_loss: 0.1269 - val_acc: 0.9751\n",
      "Epoch 24/30\n",
      "70548/70548 [==============================] - 117s 2ms/step - loss: 0.0036 - acc: 0.9988 - val_loss: 0.1453 - val_acc: 0.9761\n",
      "Epoch 25/30\n",
      "70548/70548 [==============================] - 116s 2ms/step - loss: 0.0032 - acc: 0.9990 - val_loss: 0.1728 - val_acc: 0.9752\n",
      "Epoch 26/30\n",
      "70548/70548 [==============================] - 117s 2ms/step - loss: 0.0062 - acc: 0.9983 - val_loss: 0.1488 - val_acc: 0.9751\n",
      "Epoch 27/30\n",
      "70548/70548 [==============================] - 116s 2ms/step - loss: 0.0035 - acc: 0.9990 - val_loss: 0.1633 - val_acc: 0.9750\n",
      "Epoch 28/30\n",
      "70548/70548 [==============================] - 117s 2ms/step - loss: 0.0045 - acc: 0.9987 - val_loss: 0.1320 - val_acc: 0.9754\n",
      "Epoch 29/30\n",
      "70548/70548 [==============================] - 117s 2ms/step - loss: 0.0035 - acc: 0.9989 - val_loss: 0.1755 - val_acc: 0.9768\n",
      "Epoch 30/30\n",
      "70548/70548 [==============================] - 117s 2ms/step - loss: 0.0038 - acc: 0.9989 - val_loss: 0.1455 - val_acc: 0.9752\n"
     ]
    }
   ],
   "source": [
    "history = model.fit(X_train,y_train, validation_data=(X_val, Y_val),epochs=30,batch_size=100,verbose=True)\n",
    "score = model.evaluate(X_test, y_test, verbose=0)"
   ]
  },
  {
   "cell_type": "code",
   "execution_count": 9,
   "metadata": {},
   "outputs": [
    {
     "name": "stdout",
     "output_type": "stream",
     "text": [
      "Test loss: 0.14101321135005407\n",
      "Test accuracy: 0.9768222433485704\n"
     ]
    },
    {
     "data": {
      "image/png": "[encoded data removed]",
      "text/plain": [
       "<Figure size 432x288 with 1 Axes>"
      ]
     },
     "metadata": {
      "needs_background": "light"
     },
     "output_type": "display_data"
    },
    {
     "data": {
      "image/png": "[encoded data removed]",
      "text/plain": [
       "<Figure size 432x288 with 1 Axes>"
      ]
     },
     "metadata": {
      "needs_background": "light"
     },
     "output_type": "display_data"
    }
   ],
   "source": [
    "print(\"Test loss: \" + str(score[0]))\n",
    "print(\"Test accuracy: \" + str(score[1]))\n",
    "\n",
    "# summarize history for accuracy\n",
    "plt.plot(history.history['acc'])\n",
    "plt.plot(history.history['val_acc'])\n",
    "plt.title('Accuracy')\n",
    "plt.ylabel('accuracy')\n",
    "plt.xlabel('epoch')\n",
    "plt.legend(['train', 'validation'], loc='upper right')\n",
    "plt.show()\n",
    "# summarize history for loss\n",
    "plt.plot(history.history['loss'])\n",
    "plt.plot(history.history['val_loss'])\n",
    "plt.title('Loss')\n",
    "plt.ylabel('loss')\n",
    "plt.xlabel('epoch')\n",
    "plt.legend(['train', 'validation'], loc = 'upper right')\n",
    "plt.show()"
   ]
  },
  {
   "cell_type": "code",
   "execution_count": 10,
   "metadata": {},
   "outputs": [
    {
     "data": {
      "text/plain": [
       "array([10894,   179,   332, 10642])"
      ]
     },
     "execution_count": 10,
     "metadata": {},
     "output_type": "execute_result"
    }
   ],
   "source": [
    "y_pred = model.predict_classes(X_test)\n",
    "from sklearn.metrics import confusion_matrix\n",
    "confusion_matrix(y_test, y_pred).ravel() # tn, fp, fn, tp"
   ]
  }
 ],
 "metadata": {
  "kernelspec": {
   "display_name": "Python 3",
   "language": "python",
   "name": "python3"
  },
  "language_info": {
   "codemirror_mode": {
    "name": "ipython",
    "version": 3
   },
   "file_extension": ".py",
   "mimetype": "text/x-python",
   "name": "python",
   "nbconvert_exporter": "python",
   "pygments_lexer": "ipython3",
   "version": "3.6.8"
  }
 },
 "nbformat": 4,
 "nbformat_minor": 2
}
